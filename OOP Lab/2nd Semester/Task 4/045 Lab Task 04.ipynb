{
 "cells": [
  {
   "cell_type": "markdown",
   "id": "99a0ae9d-eefb-4902-9f45-7d78e8efb1ae",
   "metadata": {},
   "source": [
    "# Lab Task 04:"
   ]
  },
  {
   "cell_type": "code",
   "execution_count": 6,
   "id": "033ff931-2806-4b4b-9d05-c0afa6f69a43",
   "metadata": {},
   "outputs": [
    {
     "name": "stdout",
     "output_type": "stream",
     "text": [
      "Title: Trust & Inspire, Author: Stephen M. R. Covey, Publication Year: 2022.\n"
     ]
    }
   ],
   "source": [
    "class Book:\n",
    "    def __init__(self, title, author, publication_year):\n",
    "        self.title = title\n",
    "        self.author = author\n",
    "        self.publication_year = publication_year\n",
    "\n",
    "    def __str__(self):\n",
    "        return f\"Title: {self.title}, Author: {self.author}, Publication Year: {self.publication_year}.\"\n",
    "\n",
    "book1 = Book(\"Trust & Inspire\", \"Stephen M. R. Covey\", 2022)\n",
    "\n",
    "print(book1)  "
   ]
  },
  {
   "cell_type": "code",
   "execution_count": null,
   "id": "c1e889a6-a2f7-4da5-8312-924ec44a8c42",
   "metadata": {},
   "outputs": [],
   "source": []
  }
 ],
 "metadata": {
  "kernelspec": {
   "display_name": "Python 3 (ipykernel)",
   "language": "python",
   "name": "python3"
  },
  "language_info": {
   "codemirror_mode": {
    "name": "ipython",
    "version": 3
   },
   "file_extension": ".py",
   "mimetype": "text/x-python",
   "name": "python",
   "nbconvert_exporter": "python",
   "pygments_lexer": "ipython3",
   "version": "3.11.7"
  }
 },
 "nbformat": 4,
 "nbformat_minor": 5
}
