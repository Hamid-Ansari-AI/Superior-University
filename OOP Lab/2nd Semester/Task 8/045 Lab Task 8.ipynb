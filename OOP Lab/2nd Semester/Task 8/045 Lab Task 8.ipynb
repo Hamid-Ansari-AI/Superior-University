{
 "cells": [
  {
   "cell_type": "markdown",
   "id": "e28e69b7-4bcc-408d-b500-426399af15ae",
   "metadata": {},
   "source": [
    "# Lab Task 08:"
   ]
  },
  {
   "cell_type": "markdown",
   "id": "fa9301c6-f7b9-49cf-9500-ae9a4e5b035e",
   "metadata": {},
   "source": [
    "### Python program to manage employee details:"
   ]
  },
  {
   "cell_type": "code",
   "execution_count": 1,
   "id": "db9c50f8-bcbf-4290-81d2-04dd3df4a197",
   "metadata": {},
   "outputs": [],
   "source": [
    "import csv\n",
    "\n",
    "class Person:\n",
    "    def __init__(self, name, age):\n",
    "        self.name = name\n",
    "        self.age = age\n",
    "\n",
    "    def display_info(self):\n",
    "        print(f\"Name: {self.name} \\nAge: {self.age}\")\n",
    "\n",
    "class Employee:\n",
    "    def __init__(self, employee_id, position):\n",
    "        self.employee_id = employee_id\n",
    "        self.position = position\n",
    "\n",
    "    def display_info(self):\n",
    "        print(f\"Employee ID: {self.employee_id} \\nPosition: {self.position}\")\n",
    "\n",
    "class Staff(Person, Employee):\n",
    "    def __init__(self, name, age, employee_id, position, department):\n",
    "        Person.__init__(self, name, age)\n",
    "        Employee.__init__(self, employee_id, position)\n",
    "        self.department = department\n",
    "\n",
    "    def display_info(self):\n",
    "        super().display_info()\n",
    "        Employee.display_info(self)\n",
    "        print(f\"Department: {self.department}\")\n",
    "        \n",
    "def read_employee_info():\n",
    "    try:\n",
    "        with open(\"employees.csv\", \"r\", newline=\"\") as file:\n",
    "            reader = csv.DictReader(file)\n",
    "            rows = list(reader)\n",
    "            if not rows:\n",
    "                print(\"No information found.\")\n",
    "            else:\n",
    "                count = 1 \n",
    "                for row in rows:\n",
    "                    print(f\"{count}. Name: {row['Name']} \\n   Age: {row['Age']} \\n   Employee ID: {row['Employee ID']} \\n   Position: {row['Position']} \\n   Department: {row['Department']} \\n\")\n",
    "                    count += 1\n",
    "    except FileNotFoundError:\n",
    "        print(\"No information found.\")\n",
    "        \n",
    "def add_employee(data):    \n",
    "    name = input(\"Enter name: \").title()\n",
    "    age = input(\"Enter age: \")\n",
    "    employee_id = input(\"Enter employee ID: \")\n",
    "    position = input(\"Enter position: \").title()\n",
    "    department = input(\"Enter department: \").upper()\n",
    "    print()\n",
    "    new_employee = Staff(name, age, employee_id, position, department)\n",
    "    data.append([new_employee.name, new_employee.age, new_employee.employee_id, new_employee.position, new_employee.department])\n",
    "    return data\n",
    "\n",
    "def save_employee_info(data):\n",
    "    with open(\"employees.csv\", \"a\", newline=\"\") as file:\n",
    "        writer = csv.writer(file)\n",
    "        if file.tell() == 0:\n",
    "            writer.writerow([\"Name\", \"Age\", \"Employee ID\", \"Position\", \"Department\"])\n",
    "        writer.writerows(data)\n",
    "    for employee in data:\n",
    "        print(f\"{employee[0]} information is successfully saved.\\n\")\n",
    "\n",
    "def main():\n",
    "    data = []\n",
    "    print(\"--Select option-- \\n1. Read Employees Info \\n2. Add Employee \\n3. Save Employee Info \\n\")\n",
    "    while True:\n",
    "        option = input(\"Enter your choice (1-3) or any other key to exit: \") \n",
    "        if option == \"1\":\n",
    "            read_employee_info()\n",
    "        elif option == \"2\":\n",
    "            data = add_employee(data)\n",
    "        elif option == \"3\":\n",
    "            save_employee_info(data)\n",
    "            data = []  \n",
    "        else:\n",
    "            print(\"--Exiting--\")\n",
    "            break "
   ]
  },
  {
   "cell_type": "code",
   "execution_count": 2,
   "id": "d8fb6022-daae-48cf-baa8-83a4e404b0de",
   "metadata": {},
   "outputs": [
    {
     "name": "stdout",
     "output_type": "stream",
     "text": [
      "--Select option-- \n",
      "1. Read Employees Info \n",
      "2. Add Employee \n",
      "3. Save Employee Info \n",
      "\n"
     ]
    },
    {
     "name": "stdin",
     "output_type": "stream",
     "text": [
      "Enter your choice (1-3) or any other key to exit:  1\n"
     ]
    },
    {
     "name": "stdout",
     "output_type": "stream",
     "text": [
      "1. Name: Muhammad Hamid \n",
      "   Age: 20 \n",
      "   Employee ID: 12311 \n",
      "   Position: Senior Programmer  \n",
      "   Department: AI \n",
      "\n",
      "2. Name: Muhammad Hammad \n",
      "   Age: 17 \n",
      "   Employee ID: 12341 \n",
      "   Position: Designer  \n",
      "   Department: SE \n",
      "\n",
      "3. Name: Muhammad Ahad \n",
      "   Age: 15 \n",
      "   Employee ID: 12345 \n",
      "   Position: Animator \n",
      "   Department: AI \n",
      "\n"
     ]
    },
    {
     "name": "stdin",
     "output_type": "stream",
     "text": [
      "Enter your choice (1-3) or any other key to exit:  4\n"
     ]
    },
    {
     "name": "stdout",
     "output_type": "stream",
     "text": [
      "--Exiting--\n"
     ]
    }
   ],
   "source": [
    "main()"
   ]
  },
  {
   "cell_type": "code",
   "execution_count": null,
   "id": "6e757dc1-cb99-4c48-8efe-1e3c2178bf4c",
   "metadata": {},
   "outputs": [],
   "source": []
  },
  {
   "cell_type": "code",
   "execution_count": null,
   "id": "8eebb206-ba8f-453b-bb6e-9c1ef22a37b1",
   "metadata": {},
   "outputs": [],
   "source": []
  },
  {
   "cell_type": "code",
   "execution_count": null,
   "id": "bc94c8f4-67d0-4b2d-ae20-d6e2e174207f",
   "metadata": {},
   "outputs": [],
   "source": []
  }
 ],
 "metadata": {
  "kernelspec": {
   "display_name": "Python 3 (ipykernel)",
   "language": "python",
   "name": "python3"
  },
  "language_info": {
   "codemirror_mode": {
    "name": "ipython",
    "version": 3
   },
   "file_extension": ".py",
   "mimetype": "text/x-python",
   "name": "python",
   "nbconvert_exporter": "python",
   "pygments_lexer": "ipython3",
   "version": "3.11.7"
  }
 },
 "nbformat": 4,
 "nbformat_minor": 5
}
