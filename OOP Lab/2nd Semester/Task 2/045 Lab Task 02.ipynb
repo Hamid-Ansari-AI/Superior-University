{
 "cells": [
  {
   "cell_type": "markdown",
   "id": "269e7f7a-227f-48fa-9f7f-ee3f0c1f72e9",
   "metadata": {},
   "source": [
    "# Lab Task 02:"
   ]
  },
  {
   "cell_type": "code",
   "execution_count": 1,
   "id": "69adbb85-3c72-4b54-8fe1-ba78d31ee0ae",
   "metadata": {},
   "outputs": [],
   "source": [
    "# 1. Class vs. Object:"
   ]
  },
  {
   "cell_type": "markdown",
   "id": "d5deaeb2-379a-4f5b-9b65-86c425cfe68a",
   "metadata": {},
   "source": [
    "### Class "
   ]
  },
  {
   "cell_type": "raw",
   "id": "8664fb08-db7a-4f44-8094-a13489e36aef",
   "metadata": {},
   "source": [
    "A class is a blueprint or a template for creating objects.\n",
    "It defines the structure and behavior of objects.\n",
    "A class contains attributes (data members) and methods (functions)."
   ]
  },
  {
   "cell_type": "markdown",
   "id": "54018711-4453-403b-8f03-4a704222f174",
   "metadata": {},
   "source": [
    "### Objects"
   ]
  },
  {
   "cell_type": "markdown",
   "id": "68432d08-da14-435c-a301-2ef6c56e033b",
   "metadata": {},
   "source": [
    "An object is an instance of a class.\n",
    "When you create an object from a class, it inherits the attributes and methods defined by the class.\n",
    "the object holds its own specific data."
   ]
  },
  {
   "cell_type": "markdown",
   "id": "ba199392-9688-4c04-98c9-de52cbc52dae",
   "metadata": {},
   "source": [
    "### Example"
   ]
  },
  {
   "cell_type": "code",
   "execution_count": 3,
   "id": "8eeb16ba-ec16-48ec-9492-0042fb957bd6",
   "metadata": {},
   "outputs": [
    {
     "name": "stdout",
     "output_type": "stream",
     "text": [
      "Name: Hamid \n",
      "Roll no: SU92-BSAIM-S24-045 \n",
      "Semester: Second\n",
      "Name: Arslan \n",
      "Roll no: SU92-BSAIM-S24-044 \n",
      "Semester: Second\n"
     ]
    }
   ],
   "source": [
    "# Define a class called \"Student\"\n",
    "class Student:\n",
    "    def __init__(self, name, rollno, semester):\n",
    "        self.name = name\n",
    "        self.rollno = rollno\n",
    "        self.semester = semester\n",
    "    \n",
    "    def print_info(self):\n",
    "        return f\"Name: {self.name} \\nRoll no: {self.rollno} \\nSemester: {self.semester}\"\n",
    "   \n",
    "# Create an object 's1' from the Car class\n",
    "s1  = Student(\"Hamid\", \"SU92-BSAIM-S24-045\", \"Second\")\n",
    "\n",
    "# Create an object 's2' from the Car class\n",
    "s2  = Student(\"Arslan\", \"SU92-BSAIM-S24-044\", \"Second\")\n",
    "\n",
    "# Use the methods of the class with the objects\n",
    "print(s1.print_info())\n",
    "print(s2.print_info())\n"
   ]
  },
  {
   "cell_type": "code",
   "execution_count": null,
   "id": "d558e317-57ac-4bf9-bafe-7a5d713cdc78",
   "metadata": {},
   "outputs": [],
   "source": [
    "# 2. Constructor Method (__init__) vs __str__() Function:"
   ]
  },
  {
   "cell_type": "raw",
   "id": "99677c15-3dc4-43dd-81e3-a80bc3239cee",
   "metadata": {},
   "source": [
    "Constructor Method (__init__)\n",
    "\n",
    "To understand the meaning of classes we have to understand the built-in __init__() function also known as Constructor.\n",
    "All classes have a function called __init__(), which is always executed when the class is being initiated.\n",
    "It usually takes parameters to set initial values for the object’s attributes."
   ]
  },
  {
   "cell_type": "raw",
   "id": "a16d610b-8509-4844-af5c-96e5964facd9",
   "metadata": {},
   "source": [
    "__str__() Function:\n",
    "\n",
    "The __str__() function controls what should be returned when the class object is represented as a string.\n",
    "It usually takes only self as its parameter and should return a string."
   ]
  },
  {
   "cell_type": "markdown",
   "id": "68c0be34-6893-4005-99ad-eba4cb430ec6",
   "metadata": {},
   "source": [
    "### Example "
   ]
  },
  {
   "cell_type": "code",
   "execution_count": 5,
   "id": "719023ba-54e3-441d-9dc8-08fb1ac718ba",
   "metadata": {},
   "outputs": [
    {
     "name": "stdout",
     "output_type": "stream",
     "text": [
      "Trust & Inspire by Stephen M. R. Covey (2022)\n"
     ]
    }
   ],
   "source": [
    "class Book:\n",
    "    def __init__(self, title, author, year):\n",
    "        self.title = title\n",
    "        self.author = author\n",
    "        self.year = year\n",
    "\n",
    "    def __str__(self):\n",
    "        return f\"{self.title} by {self.author} ({self.year})\"\n",
    "\n",
    "book1 = Book(\"Trust & Inspire\", \"Stephen M. R. Covey\", 2022)\n",
    "\n",
    "print(book1)  "
   ]
  },
  {
   "cell_type": "code",
   "execution_count": null,
   "id": "66b1dbcf-dc08-4116-bf0d-a9b616deb128",
   "metadata": {},
   "outputs": [],
   "source": []
  }
 ],
 "metadata": {
  "kernelspec": {
   "display_name": "Python 3 (ipykernel)",
   "language": "python",
   "name": "python3"
  },
  "language_info": {
   "codemirror_mode": {
    "name": "ipython",
    "version": 3
   },
   "file_extension": ".py",
   "mimetype": "text/x-python",
   "name": "python",
   "nbconvert_exporter": "python",
   "pygments_lexer": "ipython3",
   "version": "3.11.7"
  }
 },
 "nbformat": 4,
 "nbformat_minor": 5
}
