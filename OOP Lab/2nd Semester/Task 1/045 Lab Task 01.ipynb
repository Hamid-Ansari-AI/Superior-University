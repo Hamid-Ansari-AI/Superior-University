{
 "cells": [
  {
   "cell_type": "markdown",
   "id": "32bc9aa1-9574-419d-8559-e0987628170f",
   "metadata": {},
   "source": [
    "# Lab Task 01:"
   ]
  },
  {
   "cell_type": "code",
   "execution_count": 1,
   "id": "07883945-cd33-435d-b9b5-a026204f4d47",
   "metadata": {},
   "outputs": [],
   "source": [
    "def is_prime(number):\n",
    "    if number == 1:\n",
    "        return False\n",
    "    for i in range(2, int(number**0.5) + 1):\n",
    "        if number%i == 0:\n",
    "            return False\n",
    "    return True"
   ]
  },
  {
   "cell_type": "code",
   "execution_count": 2,
   "id": "bd4d7081-2835-4b78-be08-d14424c3b3f4",
   "metadata": {},
   "outputs": [
    {
     "name": "stdin",
     "output_type": "stream",
     "text": [
      "Enter an integer or 0 for exit: 3\n"
     ]
    },
    {
     "name": "stdout",
     "output_type": "stream",
     "text": [
      "3 is prime number.\n"
     ]
    },
    {
     "name": "stdin",
     "output_type": "stream",
     "text": [
      "Enter an integer or 0 for exit: 99\n"
     ]
    },
    {
     "name": "stdout",
     "output_type": "stream",
     "text": [
      "99 is not prime number.\n"
     ]
    },
    {
     "name": "stdin",
     "output_type": "stream",
     "text": [
      "Enter an integer or 0 for exit: 61\n"
     ]
    },
    {
     "name": "stdout",
     "output_type": "stream",
     "text": [
      "61 is prime number.\n"
     ]
    },
    {
     "name": "stdin",
     "output_type": "stream",
     "text": [
      "Enter an integer or 0 for exit: 63\n"
     ]
    },
    {
     "name": "stdout",
     "output_type": "stream",
     "text": [
      "63 is not prime number.\n"
     ]
    },
    {
     "name": "stdin",
     "output_type": "stream",
     "text": [
      "Enter an integer or 0 for exit: 0\n"
     ]
    }
   ],
   "source": [
    "while True:\n",
    "    number = int(input(\"Enter an integer or 0 for exit:\")) \n",
    "    if number == 0:\n",
    "        break\n",
    "    elif is_prime(number):\n",
    "        print(f\"{number} is prime number.\")\n",
    "    else:\n",
    "        print(f\"{number} is not prime number.\")"
   ]
  },
  {
   "cell_type": "code",
   "execution_count": null,
   "id": "5c72adb3-9b95-47d1-96e0-87cf1968ba2b",
   "metadata": {},
   "outputs": [],
   "source": []
  }
 ],
 "metadata": {
  "kernelspec": {
   "display_name": "Python 3 (ipykernel)",
   "language": "python",
   "name": "python3"
  },
  "language_info": {
   "codemirror_mode": {
    "name": "ipython",
    "version": 3
   },
   "file_extension": ".py",
   "mimetype": "text/x-python",
   "name": "python",
   "nbconvert_exporter": "python",
   "pygments_lexer": "ipython3",
   "version": "3.11.7"
  }
 },
 "nbformat": 4,
 "nbformat_minor": 5
}
