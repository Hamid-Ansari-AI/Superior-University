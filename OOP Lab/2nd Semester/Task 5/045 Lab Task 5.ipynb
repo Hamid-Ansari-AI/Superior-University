{
 "cells": [
  {
   "cell_type": "markdown",
   "id": "146d995f-35c1-4e5a-af01-d58b5164ec4c",
   "metadata": {},
   "source": [
    "# Lab Task 5:"
   ]
  },
  {
   "cell_type": "code",
   "execution_count": 7,
   "id": "a68cf7ab-40b1-4fd5-8fa1-32870c0d6956",
   "metadata": {},
   "outputs": [],
   "source": [
    "# Library System\n",
    "\n",
    "class Item:\n",
    "    def __init__(self, title, author):\n",
    "        self.title = title\n",
    "        self.author = author\n",
    "\n",
    "    def display_info(self):\n",
    "        print(f\"Title: {self.title} ; Author: {self.author}\")\n",
    "\n",
    "\n",
    "class Book(Item):\n",
    "    def __init__(self, title, author, book_pages):\n",
    "        super().__init__(title, author)\n",
    "        self.book_pages = book_pages\n",
    "\n",
    "    def additional_book_info(self):\n",
    "        print(f\"Number of pages: {self.book_pages}\")\n",
    "        \n",
    "\n",
    "class Magazine(Item):\n",
    "    def __init__(self, title, author, issue_number):\n",
    "        super().__init__(title, author)\n",
    "        self.issue_number = issue_number\n",
    "        \n",
    "    def additional_magazine_info(self):\n",
    "        print(f\"Issue number: {self.issue_number}\")"
   ]
  },
  {
   "cell_type": "code",
   "execution_count": 11,
   "id": "34eaeb2e-cad8-4e54-9a73-108bdeb8017f",
   "metadata": {},
   "outputs": [
    {
     "name": "stdout",
     "output_type": "stream",
     "text": [
      "Title: Trust & Inspire ; Author: Stephen Covey\n",
      "Number of pages: 345\n"
     ]
    }
   ],
   "source": [
    "b1 = Book(\"Trust & Inspire\", \"Stephen Covey\", 345)\n",
    "\n",
    "b1.display_info()\n",
    "b1.additional_book_info()"
   ]
  },
  {
   "cell_type": "code",
   "execution_count": 12,
   "id": "a25c2924-7537-4e4e-88f1-b5c6ab35d7a8",
   "metadata": {},
   "outputs": [
    {
     "name": "stdout",
     "output_type": "stream",
     "text": [
      "Title: National Geographic ; Author: Timothy Phillips\n",
      "Issue number: 151\n"
     ]
    }
   ],
   "source": [
    "m1 = Magazine(\"National Geographic\", \"Timothy Phillips\", 151)\n",
    "\n",
    "m1.display_info()\n",
    "m1.additional_magazine_info()"
   ]
  },
  {
   "cell_type": "code",
   "execution_count": null,
   "id": "a09fca5a-5d27-4a68-bda8-3940c02201f9",
   "metadata": {},
   "outputs": [],
   "source": []
  }
 ],
 "metadata": {
  "kernelspec": {
   "display_name": "Python 3 (ipykernel)",
   "language": "python",
   "name": "python3"
  },
  "language_info": {
   "codemirror_mode": {
    "name": "ipython",
    "version": 3
   },
   "file_extension": ".py",
   "mimetype": "text/x-python",
   "name": "python",
   "nbconvert_exporter": "python",
   "pygments_lexer": "ipython3",
   "version": "3.11.7"
  }
 },
 "nbformat": 4,
 "nbformat_minor": 5
}
