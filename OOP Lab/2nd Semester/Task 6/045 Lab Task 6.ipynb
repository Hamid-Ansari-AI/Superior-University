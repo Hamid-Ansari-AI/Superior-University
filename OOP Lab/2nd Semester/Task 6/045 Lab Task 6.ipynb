{
 "cells": [
  {
   "cell_type": "markdown",
   "id": "3ca61070-de8d-4443-9485-497c09c09756",
   "metadata": {},
   "source": [
    "# Lab Task 6:"
   ]
  },
  {
   "cell_type": "code",
   "execution_count": 29,
   "id": "e1fb61ef-2638-450d-ba5b-aed85ec1216d",
   "metadata": {},
   "outputs": [],
   "source": [
    "class Course:\n",
    "    def __init__(self, course_code, course_name):\n",
    "        self.course_code = course_code\n",
    "        self.course_name = course_name\n",
    "\n",
    "    def display_info(self):\n",
    "        print(f\"Course Code: {self.course_code} \\nCourse Name: {self.course_name}\")\n",
    "\n",
    "class UndergraduateCourse(Course):\n",
    "    def __init__(self, course_code, course_name, year_level):\n",
    "        super().__init__(course_code, course_name)\n",
    "        self.year_level = year_level\n",
    "\n",
    "    def additional_info(self):\n",
    "        super().display_info()\n",
    "        print(f\"Year Level: {self.year_level}\")\n",
    "\n",
    "class GraduateCourse(Course):     \n",
    "    def __init__(self, course_code, course_name, research_area):\n",
    "        super().__init__(course_code, course_name)\n",
    "        self.research_area = research_area\n",
    "        \n",
    "    def additional_info(self):\n",
    "        super().display_info()\n",
    "        print(f\"Research Area: {self.research_area}\")"
   ]
  },
  {
   "cell_type": "code",
   "execution_count": 30,
   "id": "266cc061-2aec-400e-8771-8fa7b0ff8ab3",
   "metadata": {},
   "outputs": [],
   "source": [
    "def register_course():\n",
    "    user = int(input(f\"Select Course; \\n1. Under Graduate \\n2. Graduate \\n\"))\n",
    "    \n",
    "    if user == 1:\n",
    "        course_code = input(\"Enter your Course Code:\")\n",
    "        course_name = input(\"Enter your Course Name:\")\n",
    "        year_level = input(\"Enter Course Level Year:\")\n",
    "        \n",
    "        print(f\"\\nYou have successfully enrolled. \\n \\nDetails of your Course;\")\n",
    "        \n",
    "        underg = UndergraduateCourse(course_code, course_name, year_level)\n",
    "        underg.additional_info()\n",
    "        print()\n",
    "        \n",
    "    elif user == 2:\n",
    "        course_code = input(\"Enter your Course Code:\")\n",
    "        course_name = input(\"Enter your Course Name:\")\n",
    "        research_area = input(\"Enter Research Area\")\n",
    "        \n",
    "        print(f\"\\nYou have successfully enrolled. \\n \\nDetails of your Course;\")\n",
    "        \n",
    "        graduate = GraduateCourse(course_code, course_name, research_area)\n",
    "        graduate.additional_info()\n",
    "        print()\n",
    "        \n",
    "    else:\n",
    "        print(\"Invalid Input.\")    "
   ]
  },
  {
   "cell_type": "code",
   "execution_count": 34,
   "id": "01a3463c-0017-4309-8c2a-b91ae0b9f467",
   "metadata": {},
   "outputs": [
    {
     "name": "stdin",
     "output_type": "stream",
     "text": [
      "Select Course; \n",
      "1. Under Graduate \n",
      "2. Graduate \n",
      " 1\n",
      "Enter your Course Code: BSAIM-S24-045\n",
      "Enter your Course Name: BS Artificial Intelligence\n",
      "Enter Course Level Year: 2\n"
     ]
    },
    {
     "name": "stdout",
     "output_type": "stream",
     "text": [
      "\n",
      "You have successfully enrolled. \n",
      " \n",
      "Details of your Course;\n",
      "Course Code: BSAIM-S24-045 \n",
      "Course Name: BS Artificial Intelligence\n",
      "Year Level: 2\n",
      "\n"
     ]
    }
   ],
   "source": [
    "register_course()"
   ]
  },
  {
   "cell_type": "code",
   "execution_count": null,
   "id": "8f5b3c36-d5a2-49a1-8727-db1a2f3367d8",
   "metadata": {},
   "outputs": [],
   "source": []
  }
 ],
 "metadata": {
  "kernelspec": {
   "display_name": "Python 3 (ipykernel)",
   "language": "python",
   "name": "python3"
  },
  "language_info": {
   "codemirror_mode": {
    "name": "ipython",
    "version": 3
   },
   "file_extension": ".py",
   "mimetype": "text/x-python",
   "name": "python",
   "nbconvert_exporter": "python",
   "pygments_lexer": "ipython3",
   "version": "3.11.7"
  }
 },
 "nbformat": 4,
 "nbformat_minor": 5
}
