{
 "cells": [
  {
   "cell_type": "markdown",
   "id": "67dd7819-03fa-4169-b03a-b61e14e59e37",
   "metadata": {},
   "source": [
    "# Lab Task 03:"
   ]
  },
  {
   "cell_type": "code",
   "execution_count": 7,
   "id": "783631a1-b910-498d-a9fa-352ea97eb1d5",
   "metadata": {},
   "outputs": [
    {
     "name": "stdout",
     "output_type": "stream",
     "text": [
      "Rectangle: 5 x 8.\n",
      "Area of the rectangle = 40 square meters.\n",
      "Perimeter of the rectangle = 26 meters.\n"
     ]
    }
   ],
   "source": [
    "class Rectangle:\n",
    "    def __init__(self, width, height):\n",
    "        self.width = width\n",
    "        self.height = height\n",
    "        \n",
    "    def __str__(self):\n",
    "        return f\"Rectangle: {self.width} x {self.height}.\"\n",
    "\n",
    "    def area(self):\n",
    "        return f\"Area of the rectangle = {self.width * self.height} square meters.\"\n",
    "\n",
    "    def perimeter(self):\n",
    "        return f\"Perimeter of the rectangle = {2 * (self.width + self.height)} meters.\"\n",
    "\n",
    "rec1 = Rectangle(5, 8)\n",
    "print(rec1)\n",
    "\n",
    "print(rec1.area())\n",
    "print(rec1.perimeter())"
   ]
  },
  {
   "cell_type": "code",
   "execution_count": null,
   "id": "3eb125c8-30fa-47a1-b325-2600a871620e",
   "metadata": {},
   "outputs": [],
   "source": []
  }
 ],
 "metadata": {
  "kernelspec": {
   "display_name": "Python 3 (ipykernel)",
   "language": "python",
   "name": "python3"
  },
  "language_info": {
   "codemirror_mode": {
    "name": "ipython",
    "version": 3
   },
   "file_extension": ".py",
   "mimetype": "text/x-python",
   "name": "python",
   "nbconvert_exporter": "python",
   "pygments_lexer": "ipython3",
   "version": "3.11.7"
  }
 },
 "nbformat": 4,
 "nbformat_minor": 5
}
