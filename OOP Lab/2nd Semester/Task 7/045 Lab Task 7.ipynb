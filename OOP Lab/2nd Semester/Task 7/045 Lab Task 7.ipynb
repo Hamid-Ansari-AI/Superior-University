{
 "cells": [
  {
   "cell_type": "markdown",
   "id": "980e4411-392f-4fb0-a7bc-7fafaf3e5316",
   "metadata": {},
   "source": [
    "# Lab Task 7:"
   ]
  },
  {
   "cell_type": "markdown",
   "id": "3655f17d-695f-48bb-a64d-c5bfb0c37c96",
   "metadata": {},
   "source": [
    "### Task 1; Vehicle Rental System"
   ]
  },
  {
   "cell_type": "code",
   "execution_count": 3,
   "id": "2e1ec6bb-1d2d-4d16-9a4c-300f00afa246",
   "metadata": {},
   "outputs": [],
   "source": [
    "class Vehicle:\n",
    "    def __init__(self, make, model):\n",
    "        self.make = make\n",
    "        self.model = model\n",
    "\n",
    "    def display_info(self):\n",
    "        print(f\"Make: {self.make} \\nModel: {self.model}\")\n",
    "\n",
    "\n",
    "class Car(Vehicle):\n",
    "    def __init__(self, make, model, num_doors):\n",
    "        super().__init__(make, model)\n",
    "        self.num_doors = num_doors\n",
    "\n",
    "    def additional_info_car(self):\n",
    "        super().display_info()\n",
    "        print(f\"Doors: {self.num_doors}\")\n",
    "        \n",
    "class  LuxuryCar(Car):\n",
    "    def __init__(self, make, model, num_doors, features):\n",
    "        super().__init__(make, model, num_doors)\n",
    "        self.features = features \n",
    "\n",
    "    def additional_info_luxcar(self):\n",
    "        super().additional_info_car()\n",
    "        print(f\"Features: {self.features}\")"
   ]
  },
  {
   "cell_type": "code",
   "execution_count": 4,
   "id": "17f04407-bf19-4bdb-a53d-e36db043bf43",
   "metadata": {},
   "outputs": [
    {
     "name": "stdout",
     "output_type": "stream",
     "text": [
      "Make: 2011 \n",
      "Model: Honda Civic\n",
      "Doors: 4\n"
     ]
    }
   ],
   "source": [
    "car1 = Car(2011, \"Honda Civic\", 4)\n",
    "car1.additional_info_car()"
   ]
  },
  {
   "cell_type": "code",
   "execution_count": 6,
   "id": "ccb27515-cfe9-4333-ad61-d69f690b7c5a",
   "metadata": {},
   "outputs": [
    {
     "name": "stdout",
     "output_type": "stream",
     "text": [
      "Make: 2015 \n",
      "Model: Porsche Cayenne\n",
      "Doors: 4\n",
      "Features: 7 Seaters\n"
     ]
    }
   ],
   "source": [
    "luxcar1 = LuxuryCar(2015, \"Porsche Cayenne\", 4, \"7 Seaters\")\n",
    "luxcar1.additional_info_luxcar()"
   ]
  },
  {
   "cell_type": "markdown",
   "id": "e440cf48-decb-41e0-a2a2-4d9108ad729f",
   "metadata": {},
   "source": [
    "### Task2; Company's Employee Hierarchy"
   ]
  },
  {
   "cell_type": "code",
   "execution_count": 9,
   "id": "ae513d82-387d-493b-896d-a1414cb0dde5",
   "metadata": {},
   "outputs": [],
   "source": [
    "class Employee:\n",
    "    def __init__(self, name, position):\n",
    "        self.name = name \n",
    "        self.position = position\n",
    "\n",
    "    def display_info(self):\n",
    "        print(f\"Employee Name: {self.name} \\nEmployee Position: {self.position}\")\n",
    "\n",
    "\n",
    "class Manager(Employee):\n",
    "    def __init__(self, name, position, department):\n",
    "        super().__init__(name, position)\n",
    "        self.department = department\n",
    "\n",
    "    def additional_info(self):\n",
    "        super().display_info()\n",
    "        print(f\"Department: {self.department}\")\n",
    "        \n",
    "class Manager(Employee):\n",
    "    def __init__(self, name, position, hours_worked):\n",
    "        super().__init__(name, position)\n",
    "        self.hours_worked = hours_worked\n",
    "        \n",
    "    def additional_info(self):\n",
    "        super().display_info()\n",
    "        print(f\"Worked Hours: {self.hours_worked}\")"
   ]
  },
  {
   "cell_type": "code",
   "execution_count": 10,
   "id": "83c04550-37ad-428a-84c0-f258235cfa2b",
   "metadata": {},
   "outputs": [
    {
     "name": "stdout",
     "output_type": "stream",
     "text": [
      "Employee Name: Fahad \n",
      "Employee Position: Manager\n",
      "Worked Hours: IT\n"
     ]
    }
   ],
   "source": [
    "man1 = Manager(\"Fahad\", \"Manager\", \"IT\")\n",
    "man1.additional_info()"
   ]
  },
  {
   "cell_type": "code",
   "execution_count": 12,
   "id": "3b12ac6e-d8cf-4c6f-b41d-28b23192b42b",
   "metadata": {},
   "outputs": [
    {
     "name": "stdout",
     "output_type": "stream",
     "text": [
      "Employee Name: Saad \n",
      "Employee Position: JS Programmer\n",
      "Worked Hours: 10 hours\n"
     ]
    }
   ],
   "source": [
    "worker1 = Manager(\"Saad\", \"JS Programmer\", \"10 hours\")\n",
    "worker1.additional_info() "
   ]
  },
  {
   "cell_type": "code",
   "execution_count": null,
   "id": "5413a4bc-333b-4705-9f76-910c8d5d550c",
   "metadata": {},
   "outputs": [],
   "source": []
  }
 ],
 "metadata": {
  "kernelspec": {
   "display_name": "Python 3 (ipykernel)",
   "language": "python",
   "name": "python3"
  },
  "language_info": {
   "codemirror_mode": {
    "name": "ipython",
    "version": 3
   },
   "file_extension": ".py",
   "mimetype": "text/x-python",
   "name": "python",
   "nbconvert_exporter": "python",
   "pygments_lexer": "ipython3",
   "version": "3.11.7"
  }
 },
 "nbformat": 4,
 "nbformat_minor": 5
}
